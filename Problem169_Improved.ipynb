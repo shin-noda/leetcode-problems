{
  "nbformat": 4,
  "nbformat_minor": 0,
  "metadata": {
    "colab": {
      "provenance": [],
      "authorship_tag": "ABX9TyOvlk/HiWtNJgV6XlRiBEek",
      "include_colab_link": true
    },
    "kernelspec": {
      "name": "python3",
      "display_name": "Python 3"
    },
    "language_info": {
      "name": "python"
    }
  },
  "cells": [
    {
      "cell_type": "markdown",
      "metadata": {
        "id": "view-in-github",
        "colab_type": "text"
      },
      "source": [
        "<a href=\"https://colab.research.google.com/github/shin-noda/leetcode-problems/blob/main/Problem169_Improved.ipynb\" target=\"_parent\"><img src=\"https://colab.research.google.com/assets/colab-badge.svg\" alt=\"Open In Colab\"/></a>"
      ]
    },
    {
      "cell_type": "code",
      "execution_count": 4,
      "metadata": {
        "id": "6b46VXkMjOFp"
      },
      "outputs": [],
      "source": [
        "def majorityElement(nums):\n",
        "    # Boyer-Moore Voting Algorithm\n",
        "\n",
        "    # Initialize the candidate for majority element and its count\n",
        "    candidate = None\n",
        "    count = 0\n",
        "\n",
        "    # Traverse through each number in the array\n",
        "    for num in nums:\n",
        "        if count == 0:\n",
        "            # If count is 0, pick the current number as the new candidate\n",
        "            candidate = num\n",
        "\n",
        "        # If current number is the candidate, increment count\n",
        "        # Otherwise, decrement count\n",
        "        count += (1 if num == candidate else -1)\n",
        "\n",
        "    # After one pass, candidate will be the majority element\n",
        "    return candidate"
      ]
    },
    {
      "cell_type": "code",
      "source": [
        "nums1 = [3,2,3]\n",
        "k1 = majorityElement(nums1)\n",
        "\n",
        "print(k1)"
      ],
      "metadata": {
        "colab": {
          "base_uri": "https://localhost:8080/"
        },
        "id": "oLyDdHwfjYe-",
        "outputId": "52012f33-4d53-40e2-b71d-ccf3cc27cf24"
      },
      "execution_count": 5,
      "outputs": [
        {
          "output_type": "stream",
          "name": "stdout",
          "text": [
            "3\n"
          ]
        }
      ]
    },
    {
      "cell_type": "code",
      "source": [
        "nums2 = [2,2,1,1,1,2,2]\n",
        "k2 = majorityElement(nums2)\n",
        "\n",
        "print(k2)"
      ],
      "metadata": {
        "colab": {
          "base_uri": "https://localhost:8080/"
        },
        "id": "t3hCz33cjYjx",
        "outputId": "447d0458-851a-4cd2-acd7-3f356d993c85"
      },
      "execution_count": 6,
      "outputs": [
        {
          "output_type": "stream",
          "name": "stdout",
          "text": [
            "2\n"
          ]
        }
      ]
    }
  ]
}