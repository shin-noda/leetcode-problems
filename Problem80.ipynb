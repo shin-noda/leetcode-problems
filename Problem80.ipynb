{
  "nbformat": 4,
  "nbformat_minor": 0,
  "metadata": {
    "colab": {
      "provenance": [],
      "authorship_tag": "ABX9TyO6BcqqoJM4eFCIkwlnC4Iu",
      "include_colab_link": true
    },
    "kernelspec": {
      "name": "python3",
      "display_name": "Python 3"
    },
    "language_info": {
      "name": "python"
    }
  },
  "cells": [
    {
      "cell_type": "markdown",
      "metadata": {
        "id": "view-in-github",
        "colab_type": "text"
      },
      "source": [
        "<a href=\"https://colab.research.google.com/github/shin-noda/leetcode-problems/blob/main/Problem80.ipynb\" target=\"_parent\"><img src=\"https://colab.research.google.com/assets/colab-badge.svg\" alt=\"Open In Colab\"/></a>"
      ]
    },
    {
      "cell_type": "code",
      "execution_count": 4,
      "metadata": {
        "id": "uNmvEA3oQ2-N"
      },
      "outputs": [],
      "source": [
        "def removeDuplicates(nums):\n",
        "    k = 0\n",
        "\n",
        "    unique_value = nums[0]\n",
        "    unique_count = 0\n",
        "\n",
        "    for i in range(0, len(nums)):\n",
        "        if unique_value != nums[i]:\n",
        "            # update the unique value\n",
        "            unique_value = nums[i]\n",
        "            nums[k] = nums[i]\n",
        "\n",
        "            unique_count = 1\n",
        "            k += 1\n",
        "\n",
        "        else:\n",
        "            if unique_count < 2:\n",
        "                # update the unique value for the 2nd time\n",
        "                nums[k] = nums[i]\n",
        "\n",
        "                unique_count += 1\n",
        "                k += 1\n",
        "\n",
        "    print(nums)\n",
        "\n",
        "    return k"
      ]
    },
    {
      "cell_type": "code",
      "source": [
        "nums1 = [1,1,1,2,2,3]\n",
        "\n",
        "k1 = removeDuplicates(nums1)\n",
        "print(k1)"
      ],
      "metadata": {
        "colab": {
          "base_uri": "https://localhost:8080/"
        },
        "id": "uNhAsrbnTHwz",
        "outputId": "862bf3ef-4914-46cb-e57a-8fa705d9cdd3"
      },
      "execution_count": 5,
      "outputs": [
        {
          "output_type": "stream",
          "name": "stdout",
          "text": [
            "[1, 1, 2, 2, 3, 3]\n",
            "5\n"
          ]
        }
      ]
    },
    {
      "cell_type": "code",
      "source": [
        "nums2 = [0,0,1,1,1,1,2,3,3]\n",
        "\n",
        "k2 = removeDuplicates(nums2)\n",
        "print(k2)"
      ],
      "metadata": {
        "colab": {
          "base_uri": "https://localhost:8080/"
        },
        "id": "hnVTTK7_TH4C",
        "outputId": "df401086-e5a8-4571-ba00-218bad3f2120"
      },
      "execution_count": 6,
      "outputs": [
        {
          "output_type": "stream",
          "name": "stdout",
          "text": [
            "[0, 0, 1, 1, 2, 3, 3, 3, 3]\n",
            "7\n"
          ]
        }
      ]
    }
  ]
}