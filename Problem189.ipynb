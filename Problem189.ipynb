{
  "nbformat": 4,
  "nbformat_minor": 0,
  "metadata": {
    "colab": {
      "provenance": [],
      "authorship_tag": "ABX9TyP/N1Qf5+Ui6scopqREUmBN",
      "include_colab_link": true
    },
    "kernelspec": {
      "name": "python3",
      "display_name": "Python 3"
    },
    "language_info": {
      "name": "python"
    }
  },
  "cells": [
    {
      "cell_type": "markdown",
      "metadata": {
        "id": "view-in-github",
        "colab_type": "text"
      },
      "source": [
        "<a href=\"https://colab.research.google.com/github/shin-noda/leetcode-problems/blob/main/Problem189.ipynb\" target=\"_parent\"><img src=\"https://colab.research.google.com/assets/colab-badge.svg\" alt=\"Open In Colab\"/></a>"
      ]
    },
    {
      "cell_type": "code",
      "execution_count": 17,
      "metadata": {
        "id": "MMZ4P6Pzu1-Y"
      },
      "outputs": [],
      "source": [
        "def rotate(nums, k):\n",
        "    \"\"\"\n",
        "    Do not return anything, modify nums in-place instead.\n",
        "    \"\"\"\n",
        "    n = len(nums)\n",
        "    shift = k % n\n",
        "\n",
        "    for _ in range(shift):\n",
        "        nums.insert(0, nums.pop())\n",
        "\n",
        "    print(nums)"
      ]
    },
    {
      "cell_type": "code",
      "source": [
        "nums1 = [1,2,3,4,5,6,7]\n",
        "k1 = 3\n",
        "\n",
        "rotate(nums1, k1)"
      ],
      "metadata": {
        "colab": {
          "base_uri": "https://localhost:8080/"
        },
        "id": "TG6KJyxdu7E0",
        "outputId": "4f39f99b-313f-42e4-e111-8b3c16e40656"
      },
      "execution_count": 12,
      "outputs": [
        {
          "output_type": "stream",
          "name": "stdout",
          "text": [
            "[5, 6, 7, 1, 2, 3, 4]\n"
          ]
        }
      ]
    },
    {
      "cell_type": "code",
      "source": [
        "nums2 = [-1,-100,3,99]\n",
        "k2 = 2\n",
        "\n",
        "rotate(nums2, k2)"
      ],
      "metadata": {
        "colab": {
          "base_uri": "https://localhost:8080/"
        },
        "id": "o7C5qgHxu7G3",
        "outputId": "3dba8b50-14ad-4007-d4a9-dea1b4265257"
      },
      "execution_count": 13,
      "outputs": [
        {
          "output_type": "stream",
          "name": "stdout",
          "text": [
            "[3, 99, -1, -100]\n"
          ]
        }
      ]
    },
    {
      "cell_type": "code",
      "source": [
        "nums3 = [1, 2]\n",
        "k3 = 1\n",
        "\n",
        "rotate(nums3, k3)"
      ],
      "metadata": {
        "colab": {
          "base_uri": "https://localhost:8080/"
        },
        "id": "cSATI8WOy7Yu",
        "outputId": "b976e11d-3aba-47e2-9e29-0b2d30989e7b"
      },
      "execution_count": 14,
      "outputs": [
        {
          "output_type": "stream",
          "name": "stdout",
          "text": [
            "[2, 1]\n"
          ]
        }
      ]
    },
    {
      "cell_type": "code",
      "source": [
        "nums4 = [0, 1, 2, 3, 4]\n",
        "k4 = 2\n",
        "\n",
        "rotate(nums4, k4)"
      ],
      "metadata": {
        "colab": {
          "base_uri": "https://localhost:8080/"
        },
        "id": "MphlDBAcy7d4",
        "outputId": "ef6330ea-8ab1-4d0a-de11-daae0ebada64"
      },
      "execution_count": 15,
      "outputs": [
        {
          "output_type": "stream",
          "name": "stdout",
          "text": [
            "[3, 4, 0, 1, 2]\n"
          ]
        }
      ]
    },
    {
      "cell_type": "code",
      "source": [
        "nums5 = [1,2,3,4,5,6]\n",
        "k5 = 3\n",
        "\n",
        "rotate(nums5, k5)"
      ],
      "metadata": {
        "colab": {
          "base_uri": "https://localhost:8080/"
        },
        "id": "rhDSE11M6-fV",
        "outputId": "929d1cee-1132-4786-c860-68d4839bf262"
      },
      "execution_count": 16,
      "outputs": [
        {
          "output_type": "stream",
          "name": "stdout",
          "text": [
            "[4, 5, 6, 1, 2, 3]\n"
          ]
        }
      ]
    },
    {
      "cell_type": "code",
      "source": [],
      "metadata": {
        "id": "WrA3mXig6-hZ"
      },
      "execution_count": null,
      "outputs": []
    },
    {
      "cell_type": "code",
      "source": [],
      "metadata": {
        "id": "kx6RBP5y6-jt"
      },
      "execution_count": null,
      "outputs": []
    },
    {
      "cell_type": "code",
      "source": [],
      "metadata": {
        "id": "hE-XlIva6-ls"
      },
      "execution_count": null,
      "outputs": []
    }
  ]
}