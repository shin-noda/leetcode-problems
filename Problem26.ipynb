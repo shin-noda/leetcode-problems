{
  "nbformat": 4,
  "nbformat_minor": 0,
  "metadata": {
    "colab": {
      "provenance": [],
      "authorship_tag": "ABX9TyMGA/00/8u1/8DaDwtjL3Uh",
      "include_colab_link": true
    },
    "kernelspec": {
      "name": "python3",
      "display_name": "Python 3"
    },
    "language_info": {
      "name": "python"
    }
  },
  "cells": [
    {
      "cell_type": "markdown",
      "metadata": {
        "id": "view-in-github",
        "colab_type": "text"
      },
      "source": [
        "<a href=\"https://colab.research.google.com/github/shin-noda/leetcode-problems/blob/main/Problem26.ipynb\" target=\"_parent\"><img src=\"https://colab.research.google.com/assets/colab-badge.svg\" alt=\"Open In Colab\"/></a>"
      ]
    },
    {
      "cell_type": "code",
      "execution_count": 6,
      "metadata": {
        "id": "RBg7RpovGXUl"
      },
      "outputs": [],
      "source": [
        "def removeDuplicates(nums):\n",
        "    k = 0\n",
        "    unique_value = -9999\n",
        "\n",
        "    index = 0\n",
        "    while index <= len(nums) - 1:\n",
        "        if unique_value != nums[index]:\n",
        "            # update the unique value\n",
        "            unique_value = nums[index]\n",
        "\n",
        "            # update unique value\n",
        "            nums[k] = nums[index]\n",
        "\n",
        "            k += 1\n",
        "\n",
        "        index += 1\n",
        "\n",
        "    print(nums)\n",
        "\n",
        "    return k"
      ]
    },
    {
      "cell_type": "code",
      "source": [
        "nums1 = [1,1,2]\n",
        "\n",
        "print(removeDuplicates(nums1))"
      ],
      "metadata": {
        "colab": {
          "base_uri": "https://localhost:8080/"
        },
        "id": "sRmbvK7NIZaO",
        "outputId": "a97bcc43-a8a4-4b1b-c8ab-6ca2681a2086"
      },
      "execution_count": 7,
      "outputs": [
        {
          "output_type": "stream",
          "name": "stdout",
          "text": [
            "[1, 2, 2]\n",
            "2\n"
          ]
        }
      ]
    },
    {
      "cell_type": "code",
      "source": [
        "nums2 = [0,0,1,1,1,2,2,3,3,4]\n",
        "\n",
        "print(removeDuplicates(nums2))"
      ],
      "metadata": {
        "colab": {
          "base_uri": "https://localhost:8080/"
        },
        "id": "ziSyYrHqIZcu",
        "outputId": "c2b78b5c-a745-40ef-cb3c-b84a11a635fc"
      },
      "execution_count": 8,
      "outputs": [
        {
          "output_type": "stream",
          "name": "stdout",
          "text": [
            "[0, 1, 2, 3, 4, 2, 2, 3, 3, 4]\n",
            "5\n"
          ]
        }
      ]
    }
  ]
}