{
  "nbformat": 4,
  "nbformat_minor": 0,
  "metadata": {
    "colab": {
      "provenance": [],
      "authorship_tag": "ABX9TyPmp9ubrWNN/Ykf9jqt5fzM",
      "include_colab_link": true
    },
    "kernelspec": {
      "name": "python3",
      "display_name": "Python 3"
    },
    "language_info": {
      "name": "python"
    }
  },
  "cells": [
    {
      "cell_type": "markdown",
      "metadata": {
        "id": "view-in-github",
        "colab_type": "text"
      },
      "source": [
        "<a href=\"https://colab.research.google.com/github/shin-noda/leetcode-problems/blob/main/Problem121.ipynb\" target=\"_parent\"><img src=\"https://colab.research.google.com/assets/colab-badge.svg\" alt=\"Open In Colab\"/></a>"
      ]
    },
    {
      "cell_type": "code",
      "execution_count": 17,
      "metadata": {
        "id": "A7v7suOLMHE3"
      },
      "outputs": [],
      "source": [
        "def maxProfit(prices):\n",
        "    max = 0\n",
        "\n",
        "    low = prices[0]\n",
        "    high = prices[0]\n",
        "\n",
        "    for price in prices:\n",
        "        if high < price:\n",
        "            high = price\n",
        "\n",
        "            # Only check the max profit here because if the price goes low, you it doesn't contribute to the profit\n",
        "            profit = high - low\n",
        "\n",
        "            if max < profit:\n",
        "                max = profit\n",
        "\n",
        "        if low > price:\n",
        "            low = price\n",
        "\n",
        "            # Update the high as well\n",
        "            high = price\n",
        "\n",
        "\n",
        "    return max"
      ]
    },
    {
      "cell_type": "code",
      "source": [
        "prices1 = [7,1,5,3,6,4]\n",
        "\n",
        "print(maxProfit(prices1))"
      ],
      "metadata": {
        "colab": {
          "base_uri": "https://localhost:8080/"
        },
        "id": "n6YvIQSIMQSq",
        "outputId": "70492403-1d71-4830-f65f-3fa2af75750a"
      },
      "execution_count": 15,
      "outputs": [
        {
          "output_type": "stream",
          "name": "stdout",
          "text": [
            "5\n"
          ]
        }
      ]
    },
    {
      "cell_type": "code",
      "source": [
        "prices2 = [7,6,4,3,1]\n",
        "\n",
        "print(maxProfit(prices2))"
      ],
      "metadata": {
        "colab": {
          "base_uri": "https://localhost:8080/"
        },
        "id": "wrrp4ysZMYi7",
        "outputId": "ac58f647-1dc8-4e47-ccb6-960b22682170"
      },
      "execution_count": 16,
      "outputs": [
        {
          "output_type": "stream",
          "name": "stdout",
          "text": [
            "0\n"
          ]
        }
      ]
    },
    {
      "cell_type": "code",
      "source": [],
      "metadata": {
        "id": "8t7bAdwQPfYz"
      },
      "execution_count": null,
      "outputs": []
    }
  ]
}