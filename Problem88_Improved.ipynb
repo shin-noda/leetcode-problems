{
  "nbformat": 4,
  "nbformat_minor": 0,
  "metadata": {
    "colab": {
      "provenance": [],
      "authorship_tag": "ABX9TyMUgsnJH/RiOsPf6QjUsz3c",
      "include_colab_link": true
    },
    "kernelspec": {
      "name": "python3",
      "display_name": "Python 3"
    },
    "language_info": {
      "name": "python"
    }
  },
  "cells": [
    {
      "cell_type": "markdown",
      "metadata": {
        "id": "view-in-github",
        "colab_type": "text"
      },
      "source": [
        "<a href=\"https://colab.research.google.com/github/shin-noda/leetcode-problems/blob/main/Problem88_Improved.ipynb\" target=\"_parent\"><img src=\"https://colab.research.google.com/assets/colab-badge.svg\" alt=\"Open In Colab\"/></a>"
      ]
    },
    {
      "cell_type": "code",
      "source": [
        "\"\"\"\n",
        "Backwards merge\n",
        "Time complexity: O(m + n) because each element is processed exactly once.\n",
        "Space complexity: O(1) since we’re not using extra arrays.\n",
        "\"\"\"\n",
        "def merge(nums1, m, nums2, n):\n",
        "    \"\"\"\n",
        "    Do not return anything, modify nums1 in-place instead.\n",
        "    \"\"\"\n",
        "\n",
        "    # Pointers to the last valid elements in nums1 and nums2\n",
        "    p1 = m - 1       # Last element in the original part of nums1\n",
        "    p2 = n - 1       # Last element in nums2\n",
        "    p = m + n - 1    # Last position in nums1 (total length)\n",
        "\n",
        "    # Merge nums1 and nums2 starting from the end\n",
        "    while p1 >= 0 and p2 >= 0:\n",
        "        # Compare current elements and put the larger one at the end\n",
        "        if nums1[p1] > nums2[p2]:\n",
        "            nums1[p] = nums1[p1]  # Move nums1[p1] to the end\n",
        "            p1 -= 1                # Move nums1 pointer left\n",
        "\n",
        "        else:\n",
        "            nums1[p] = nums2[p2]  # Move nums2[p2] to the end\n",
        "            p2 -= 1                # Move nums2 pointer left\n",
        "\n",
        "        p -= 1                     # Move placement pointer left\n",
        "\n",
        "    # If there are remaining elements in nums2, copy them over\n",
        "    # (No need to copy remaining nums1 elements; they are already in place)\n",
        "    while p2 >= 0:\n",
        "        nums1[p] = nums2[p2]\n",
        "        p2 -= 1\n",
        "        p -= 1\n",
        "\n",
        "    # debugging\n",
        "    print(nums1)"
      ],
      "metadata": {
        "id": "TOrjTsXdzM_-"
      },
      "execution_count": 6,
      "outputs": []
    },
    {
      "cell_type": "code",
      "source": [
        "nums1 = [1,2,3,0,0,0]\n",
        "nums2 = [2, 5, 6]\n",
        "\n",
        "m = 3\n",
        "n = 3"
      ],
      "metadata": {
        "id": "52WkYblQzEBi"
      },
      "execution_count": 7,
      "outputs": []
    },
    {
      "cell_type": "code",
      "source": [
        "merge(nums1, m, nums2, n)"
      ],
      "metadata": {
        "colab": {
          "base_uri": "https://localhost:8080/"
        },
        "id": "mmSF04FgzEEK",
        "outputId": "5cb84548-fe8c-4fce-e9c9-077ea3d8f57d"
      },
      "execution_count": 8,
      "outputs": [
        {
          "output_type": "stream",
          "name": "stdout",
          "text": [
            "[1, 2, 2, 3, 5, 6]\n"
          ]
        }
      ]
    },
    {
      "cell_type": "code",
      "source": [
        "nums3 = [7, 7, 7, 0, 0, 0]\n",
        "nums4 = [2, 5, 6]\n",
        "\n",
        "o = 3\n",
        "p = 3"
      ],
      "metadata": {
        "id": "XmW_OJmnzEG8"
      },
      "execution_count": 9,
      "outputs": []
    },
    {
      "cell_type": "code",
      "source": [
        "merge(nums3, o, nums4, p)"
      ],
      "metadata": {
        "colab": {
          "base_uri": "https://localhost:8080/"
        },
        "id": "dmWwYZ-qzQb2",
        "outputId": "8b3c0420-b6b4-45e1-8dc8-fd475f15ccf2"
      },
      "execution_count": 10,
      "outputs": [
        {
          "output_type": "stream",
          "name": "stdout",
          "text": [
            "[2, 5, 6, 7, 7, 7]\n"
          ]
        }
      ]
    },
    {
      "cell_type": "code",
      "source": [
        "nums5 = [-1,0,0,3,3,3,0,0,0]\n",
        "nums6 = [1,2,2]\n",
        "\n",
        "q = 6\n",
        "r = 3"
      ],
      "metadata": {
        "id": "FLf88ZMFzVmP"
      },
      "execution_count": 11,
      "outputs": []
    },
    {
      "cell_type": "code",
      "source": [
        "merge(nums5, q, nums6, r)"
      ],
      "metadata": {
        "colab": {
          "base_uri": "https://localhost:8080/"
        },
        "id": "YrOMP0plzQee",
        "outputId": "2b7adc98-fd04-4cfd-e72f-acc5cbda7044"
      },
      "execution_count": 12,
      "outputs": [
        {
          "output_type": "stream",
          "name": "stdout",
          "text": [
            "[-1, 0, 0, 1, 2, 2, 3, 3, 3]\n"
          ]
        }
      ]
    }
  ]
}