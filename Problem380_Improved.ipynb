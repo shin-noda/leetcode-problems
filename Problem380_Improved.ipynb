{
  "nbformat": 4,
  "nbformat_minor": 0,
  "metadata": {
    "colab": {
      "provenance": [],
      "authorship_tag": "ABX9TyNj3xfsy+CmMLLN2IUjrg4M",
      "include_colab_link": true
    },
    "kernelspec": {
      "name": "python3",
      "display_name": "Python 3"
    },
    "language_info": {
      "name": "python"
    }
  },
  "cells": [
    {
      "cell_type": "markdown",
      "metadata": {
        "id": "view-in-github",
        "colab_type": "text"
      },
      "source": [
        "<a href=\"https://colab.research.google.com/github/shin-noda/leetcode-problems/blob/main/Problem380_Improved.ipynb\" target=\"_parent\"><img src=\"https://colab.research.google.com/assets/colab-badge.svg\" alt=\"Open In Colab\"/></a>"
      ]
    },
    {
      "cell_type": "code",
      "execution_count": 1,
      "metadata": {
        "id": "LRduoEqgnp4Z"
      },
      "outputs": [],
      "source": [
        "import random  # needed for random.choice()"
      ]
    },
    {
      "cell_type": "code",
      "source": [
        "import random  # for random.choice()\n",
        "\n",
        "class RandomizedSet:\n",
        "    def __init__(self):\n",
        "        \"\"\"\n",
        "        Initializes the RandomizedSet object.\n",
        "        \"\"\"\n",
        "        # List to store the elements for O(1) random access\n",
        "        self.vals = []\n",
        "\n",
        "        # Dictionary to map each value to its index in the list\n",
        "        # This allows O(1) insert and remove\n",
        "        self.val_to_index = {}\n",
        "\n",
        "    def insert(self, val: int) -> bool:\n",
        "        \"\"\"\n",
        "        Inserts val into the set if not already present.\n",
        "        Returns True if inserted, False if val already exists.\n",
        "        \"\"\"\n",
        "        # check existence in O(1)\n",
        "        if val in self.val_to_index:\n",
        "            return False\n",
        "\n",
        "        # Append val to the end of the list\n",
        "        self.vals.append(val)\n",
        "\n",
        "        # Record val's index in the dictionary\n",
        "        self.val_to_index[val] = len(self.vals) - 1\n",
        "\n",
        "        return True\n",
        "\n",
        "    def remove(self, val: int) -> bool:\n",
        "        \"\"\"\n",
        "        Removes val from the set if present.\n",
        "        Returns True if removed, False if val was not in the set.\n",
        "        \"\"\"\n",
        "        if val not in self.val_to_index:  # check existence\n",
        "            return False\n",
        "\n",
        "        # Get the index of the value to remove\n",
        "        idx_to_remove = self.val_to_index[val]\n",
        "\n",
        "        # Move the last element in the list to the place of the removed element\n",
        "        last_val = self.vals[-1]                 # get last element\n",
        "        self.vals[idx_to_remove] = last_val     # overwrite the element to remove\n",
        "        self.val_to_index[last_val] = idx_to_remove  # update its index in the dict\n",
        "\n",
        "        # Remove the last element from the list (O(1))\n",
        "        self.vals.pop()\n",
        "\n",
        "        # Delete val from the dictionary\n",
        "        del self.val_to_index[val]\n",
        "\n",
        "        return True\n",
        "\n",
        "    def getRandom(self) -> int:\n",
        "        \"\"\"\n",
        "        Returns a random element from the set.\n",
        "        random.choice() is O(1) on the list.\n",
        "        \"\"\"\n",
        "        return random.choice(self.vals)\n",
        "\n",
        "# Your RandomizedSet object will be instantiated and called as such:\n",
        "# obj = RandomizedSet()\n",
        "# param_1 = obj.insert(val)\n",
        "# param_2 = obj.remove(val)\n",
        "# param_3 = obj.getRandom()"
      ],
      "metadata": {
        "id": "obfdSHf8n2G7"
      },
      "execution_count": 2,
      "outputs": []
    }
  ]
}