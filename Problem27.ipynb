{
  "nbformat": 4,
  "nbformat_minor": 0,
  "metadata": {
    "colab": {
      "provenance": [],
      "authorship_tag": "ABX9TyN6e74GM02c1yu9kExcmdjo",
      "include_colab_link": true
    },
    "kernelspec": {
      "name": "python3",
      "display_name": "Python 3"
    },
    "language_info": {
      "name": "python"
    }
  },
  "cells": [
    {
      "cell_type": "markdown",
      "metadata": {
        "id": "view-in-github",
        "colab_type": "text"
      },
      "source": [
        "<a href=\"https://colab.research.google.com/github/shin-noda/leetcode-problems/blob/main/Problem27.ipynb\" target=\"_parent\"><img src=\"https://colab.research.google.com/assets/colab-badge.svg\" alt=\"Open In Colab\"/></a>"
      ]
    },
    {
      "cell_type": "code",
      "execution_count": 5,
      "metadata": {
        "id": "jwZAUR314MZd"
      },
      "outputs": [],
      "source": [
        "def removeElement(nums, val):\n",
        "    # initialize variables\n",
        "    k = len(nums)\n",
        "\n",
        "    # this points to the last elemnt that doesn't contain val\n",
        "    p_last = len(nums) - 1\n",
        "\n",
        "    # this is for the pointer\n",
        "    p = len(nums) - 1\n",
        "\n",
        "    while p >= 0:\n",
        "        # found val\n",
        "        if nums[p] == val:\n",
        "            # swap positions and remove val\n",
        "            nums[p] = nums[p_last]\n",
        "            nums[p_last] = -1\n",
        "\n",
        "            p_last -= 1\n",
        "            k -= 1\n",
        "\n",
        "        p -= 1\n",
        "\n",
        "    print(nums)\n",
        "\n",
        "    return k"
      ]
    },
    {
      "cell_type": "code",
      "source": [
        "nums1 = [3,2,2,3]\n",
        "val1 = 3"
      ],
      "metadata": {
        "id": "F2BxhpXz6F4G"
      },
      "execution_count": 6,
      "outputs": []
    },
    {
      "cell_type": "code",
      "source": [
        "k1 = removeElement(nums1, val1)\n",
        "\n",
        "print(k1)"
      ],
      "metadata": {
        "colab": {
          "base_uri": "https://localhost:8080/"
        },
        "id": "ygOraGb86F6U",
        "outputId": "60a61e5f-1698-4bb0-dc32-22a87a6b57fa"
      },
      "execution_count": 7,
      "outputs": [
        {
          "output_type": "stream",
          "name": "stdout",
          "text": [
            "[2, 2, -1, -1]\n",
            "2\n"
          ]
        }
      ]
    },
    {
      "cell_type": "code",
      "source": [
        "nums2 = [0,1,2,2,3,0,4,2]\n",
        "val2 = 2"
      ],
      "metadata": {
        "id": "HcJwYG8O6F8k"
      },
      "execution_count": 8,
      "outputs": []
    },
    {
      "cell_type": "code",
      "source": [
        "k2 = removeElement(nums2, val2)\n",
        "\n",
        "print(k2)"
      ],
      "metadata": {
        "colab": {
          "base_uri": "https://localhost:8080/"
        },
        "id": "x1t-oHfQ6F_q",
        "outputId": "5f7bae08-29bf-4bd9-8db8-9096a397996f"
      },
      "execution_count": 9,
      "outputs": [
        {
          "output_type": "stream",
          "name": "stdout",
          "text": [
            "[0, 1, 0, 4, 3, -1, -1, -1]\n",
            "5\n"
          ]
        }
      ]
    }
  ]
}