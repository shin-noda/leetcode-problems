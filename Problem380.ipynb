{
  "nbformat": 4,
  "nbformat_minor": 0,
  "metadata": {
    "colab": {
      "provenance": [],
      "authorship_tag": "ABX9TyN7seAJW3duPwZGpHKIQjDe",
      "include_colab_link": true
    },
    "kernelspec": {
      "name": "python3",
      "display_name": "Python 3"
    },
    "language_info": {
      "name": "python"
    }
  },
  "cells": [
    {
      "cell_type": "markdown",
      "metadata": {
        "id": "view-in-github",
        "colab_type": "text"
      },
      "source": [
        "<a href=\"https://colab.research.google.com/github/shin-noda/leetcode-problems/blob/main/Problem380.ipynb\" target=\"_parent\"><img src=\"https://colab.research.google.com/assets/colab-badge.svg\" alt=\"Open In Colab\"/></a>"
      ]
    },
    {
      "cell_type": "code",
      "source": [
        "from random import randint"
      ],
      "metadata": {
        "id": "qr-CxiW_lI7q"
      },
      "execution_count": 1,
      "outputs": []
    },
    {
      "cell_type": "code",
      "execution_count": 15,
      "metadata": {
        "id": "w0mv5MMqrIVl"
      },
      "outputs": [],
      "source": [
        "class RandomizedSet:\n",
        "    def __init__(self):\n",
        "        # unique set for each instance\n",
        "        self.x = set()\n",
        "\n",
        "    def insert(self, val: int) -> bool:\n",
        "        if val in self.x:\n",
        "            return False\n",
        "\n",
        "        else:\n",
        "            self.x.add(val)\n",
        "            return True\n",
        "\n",
        "    def remove(self, val: int) -> bool:\n",
        "        if val not in self.x:\n",
        "            return False\n",
        "\n",
        "        else:\n",
        "            self.x.remove(val)\n",
        "            return True\n",
        "\n",
        "    def getRandom(self) -> int:\n",
        "        n = len(self.x)\n",
        "        rand = randint(0, n - 1)\n",
        "\n",
        "        return list(self.x)[rand]\n",
        "\n",
        "# Your RandomizedSet object will be instantiated and called as such:\n",
        "# obj = RandomizedSet()\n",
        "# param_1 = obj.insert(val)\n",
        "# param_2 = obj.remove(val)\n",
        "# param_3 = obj.getRandom()"
      ]
    },
    {
      "cell_type": "code",
      "source": [
        "obj = RandomizedSet()"
      ],
      "metadata": {
        "id": "f4yYn5wTlXxE"
      },
      "execution_count": 16,
      "outputs": []
    },
    {
      "cell_type": "code",
      "source": [
        "print(obj.insert(1))"
      ],
      "metadata": {
        "colab": {
          "base_uri": "https://localhost:8080/"
        },
        "id": "C6llOYORlXzU",
        "outputId": "b7e8417d-f9aa-44c8-b3db-8da3e600c0b5"
      },
      "execution_count": 18,
      "outputs": [
        {
          "output_type": "stream",
          "name": "stdout",
          "text": [
            "True\n"
          ]
        }
      ]
    },
    {
      "cell_type": "code",
      "source": [
        "print(obj.remove(2))"
      ],
      "metadata": {
        "colab": {
          "base_uri": "https://localhost:8080/"
        },
        "id": "4Nkyiy9vlX19",
        "outputId": "a5c50886-7398-4e68-db75-a0f20a72f09e"
      },
      "execution_count": 19,
      "outputs": [
        {
          "output_type": "stream",
          "name": "stdout",
          "text": [
            "False\n"
          ]
        }
      ]
    },
    {
      "cell_type": "code",
      "source": [
        "print(obj.insert(2))"
      ],
      "metadata": {
        "colab": {
          "base_uri": "https://localhost:8080/"
        },
        "id": "nP3KApmPlX4Q",
        "outputId": "9f7a4f0d-d35b-4998-c70f-3d5747d563c2"
      },
      "execution_count": 20,
      "outputs": [
        {
          "output_type": "stream",
          "name": "stdout",
          "text": [
            "True\n"
          ]
        }
      ]
    },
    {
      "cell_type": "code",
      "source": [
        "print(obj.getRandom())"
      ],
      "metadata": {
        "colab": {
          "base_uri": "https://localhost:8080/"
        },
        "id": "8wkee5qrlX6G",
        "outputId": "91623089-694b-4419-f3b0-6667e287b556"
      },
      "execution_count": 27,
      "outputs": [
        {
          "output_type": "stream",
          "name": "stdout",
          "text": [
            "1\n"
          ]
        }
      ]
    },
    {
      "cell_type": "code",
      "source": [
        "print(obj.remove(1))"
      ],
      "metadata": {
        "colab": {
          "base_uri": "https://localhost:8080/"
        },
        "id": "3uG48BiFmu4Y",
        "outputId": "da7a1f70-38bd-41cb-b2bd-dcee93104d8d"
      },
      "execution_count": 28,
      "outputs": [
        {
          "output_type": "stream",
          "name": "stdout",
          "text": [
            "True\n"
          ]
        }
      ]
    },
    {
      "cell_type": "code",
      "source": [
        "print(obj.insert(2))"
      ],
      "metadata": {
        "colab": {
          "base_uri": "https://localhost:8080/"
        },
        "id": "kY5gDVjCmu5Z",
        "outputId": "4570a643-ca26-4c3d-9165-1bb486f137fb"
      },
      "execution_count": 29,
      "outputs": [
        {
          "output_type": "stream",
          "name": "stdout",
          "text": [
            "False\n"
          ]
        }
      ]
    },
    {
      "cell_type": "code",
      "source": [
        "print(obj.getRandom())"
      ],
      "metadata": {
        "colab": {
          "base_uri": "https://localhost:8080/"
        },
        "id": "DLR7KIdYmu8w",
        "outputId": "76141b68-5923-481e-b4a8-cbd827c7b736"
      },
      "execution_count": 34,
      "outputs": [
        {
          "output_type": "stream",
          "name": "stdout",
          "text": [
            "2\n"
          ]
        }
      ]
    },
    {
      "cell_type": "code",
      "source": [],
      "metadata": {
        "id": "Y9hbd5lDm4oT"
      },
      "execution_count": null,
      "outputs": []
    }
  ]
}