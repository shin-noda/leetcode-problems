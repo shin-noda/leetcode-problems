{
  "nbformat": 4,
  "nbformat_minor": 0,
  "metadata": {
    "colab": {
      "provenance": [],
      "authorship_tag": "ABX9TyNNCpWuZ+0P3rWX8oi7huAD",
      "include_colab_link": true
    },
    "kernelspec": {
      "name": "python3",
      "display_name": "Python 3"
    },
    "language_info": {
      "name": "python"
    }
  },
  "cells": [
    {
      "cell_type": "markdown",
      "metadata": {
        "id": "view-in-github",
        "colab_type": "text"
      },
      "source": [
        "<a href=\"https://colab.research.google.com/github/shin-noda/leetcode-problems/blob/main/Problem122.ipynb\" target=\"_parent\"><img src=\"https://colab.research.google.com/assets/colab-badge.svg\" alt=\"Open In Colab\"/></a>"
      ]
    },
    {
      "cell_type": "code",
      "execution_count": 7,
      "metadata": {
        "id": "U0O6-YfGRRO4"
      },
      "outputs": [],
      "source": [
        "def maxProfit(prices):\n",
        "    max_profit = 0\n",
        "\n",
        "    buy_price = prices[0]\n",
        "\n",
        "    # Add up all profits to gain the max profits\n",
        "    for price in prices:\n",
        "        if buy_price > price:\n",
        "            # New position\n",
        "            buy_price = price\n",
        "\n",
        "        if buy_price < price:\n",
        "            max_profit = max_profit + (price - buy_price)\n",
        "\n",
        "            # New position\n",
        "            buy_price = price\n",
        "\n",
        "    return max_profit"
      ]
    },
    {
      "cell_type": "code",
      "source": [
        "prices1 = [7,1,5,3,6,4]\n",
        "\n",
        "print(maxProfit(prices1))"
      ],
      "metadata": {
        "colab": {
          "base_uri": "https://localhost:8080/"
        },
        "id": "Al-8YIONY9wC",
        "outputId": "c485b4f4-0c40-452d-daea-60ff0a35383e"
      },
      "execution_count": 8,
      "outputs": [
        {
          "output_type": "stream",
          "name": "stdout",
          "text": [
            "7\n"
          ]
        }
      ]
    },
    {
      "cell_type": "code",
      "source": [
        "prices2 = [1,2,3,4,5]\n",
        "\n",
        "print(maxProfit(prices2))"
      ],
      "metadata": {
        "colab": {
          "base_uri": "https://localhost:8080/"
        },
        "id": "QwaHfvb8Y9yO",
        "outputId": "fa3a944b-0b8c-40e0-fa79-0b8bbf71683e"
      },
      "execution_count": 9,
      "outputs": [
        {
          "output_type": "stream",
          "name": "stdout",
          "text": [
            "4\n"
          ]
        }
      ]
    },
    {
      "cell_type": "code",
      "source": [
        "prices3 = [7,6,4,3,1]\n",
        "\n",
        "print(maxProfit(prices3))"
      ],
      "metadata": {
        "colab": {
          "base_uri": "https://localhost:8080/"
        },
        "id": "NQdRibmsY90R",
        "outputId": "7e279f14-501d-45cc-9c6e-d83731844d82"
      },
      "execution_count": 10,
      "outputs": [
        {
          "output_type": "stream",
          "name": "stdout",
          "text": [
            "0\n"
          ]
        }
      ]
    }
  ]
}