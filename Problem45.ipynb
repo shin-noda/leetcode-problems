{
  "nbformat": 4,
  "nbformat_minor": 0,
  "metadata": {
    "colab": {
      "provenance": [],
      "authorship_tag": "ABX9TyMu3bjFdRDZxVjkm4eWfz97",
      "include_colab_link": true
    },
    "kernelspec": {
      "name": "python3",
      "display_name": "Python 3"
    },
    "language_info": {
      "name": "python"
    }
  },
  "cells": [
    {
      "cell_type": "markdown",
      "metadata": {
        "id": "view-in-github",
        "colab_type": "text"
      },
      "source": [
        "<a href=\"https://colab.research.google.com/github/shin-noda/leetcode-problems/blob/main/Problem45.ipynb\" target=\"_parent\"><img src=\"https://colab.research.google.com/assets/colab-badge.svg\" alt=\"Open In Colab\"/></a>"
      ]
    },
    {
      "cell_type": "code",
      "execution_count": 45,
      "metadata": {
        "id": "CvU9-KOawVbs"
      },
      "outputs": [],
      "source": [
        "def jump(nums):\n",
        "    counts = 0\n",
        "    position = 0\n",
        "    n = len(nums)\n",
        "\n",
        "    if n == 1:\n",
        "        return counts\n",
        "\n",
        "    is_reached = False\n",
        "\n",
        "    while not is_reached:\n",
        "        print(\"current position: \" + str(position))\n",
        "        print(\"next jump: \" + str(nums[position]))\n",
        "        print(\"\\n\")\n",
        "\n",
        "        # jump\n",
        "        distance = nums[position]\n",
        "        counts += 1\n",
        "\n",
        "        # if we can reach the final index with this jump, it's done\n",
        "        if position + distance < n - 1:\n",
        "            max_value = 0\n",
        "            add_position = 0\n",
        "            # find the next landing point\n",
        "            for i in range(1, distance + 1):\n",
        "                print(\"index: \" + str(position + i))\n",
        "                value = i + nums[position + i]\n",
        "\n",
        "                print(\"value: \" + str(value))\n",
        "\n",
        "                if max_value < value:\n",
        "                    max_value = value\n",
        "                    add_position = i\n",
        "\n",
        "            # need to update the position here.\n",
        "            # cannot update the position inside of the for loop\n",
        "            position = position + add_position\n",
        "\n",
        "        else:\n",
        "            # we are done\n",
        "            is_reached = True\n",
        "\n",
        "    return counts"
      ]
    },
    {
      "cell_type": "code",
      "source": [
        "nums1 = [2,3,1,1,4]\n",
        "\n",
        "print(jump(nums1))"
      ],
      "metadata": {
        "colab": {
          "base_uri": "https://localhost:8080/"
        },
        "id": "iQI1VBQIwZ6A",
        "outputId": "5948c0d0-c20d-4276-9148-a8dd7532a643"
      },
      "execution_count": 46,
      "outputs": [
        {
          "output_type": "stream",
          "name": "stdout",
          "text": [
            "current position: 0\n",
            "next jump: 2\n",
            "\n",
            "\n",
            "index: 1\n",
            "value: 4\n",
            "index: 2\n",
            "value: 3\n",
            "current position: 1\n",
            "next jump: 3\n",
            "\n",
            "\n",
            "2\n"
          ]
        }
      ]
    },
    {
      "cell_type": "code",
      "source": [
        "nums2 = [2,3,0,1,4]\n",
        "\n",
        "print(jump(nums2))"
      ],
      "metadata": {
        "colab": {
          "base_uri": "https://localhost:8080/"
        },
        "id": "065DGH7xwZ8J",
        "outputId": "8b56e186-e3c5-4231-b1c1-ee6605aa7756"
      },
      "execution_count": 47,
      "outputs": [
        {
          "output_type": "stream",
          "name": "stdout",
          "text": [
            "current position: 0\n",
            "next jump: 2\n",
            "\n",
            "\n",
            "index: 1\n",
            "value: 4\n",
            "index: 2\n",
            "value: 2\n",
            "current position: 1\n",
            "next jump: 3\n",
            "\n",
            "\n",
            "2\n"
          ]
        }
      ]
    },
    {
      "cell_type": "code",
      "source": [
        "nums3 = [1,1,1,1,4]\n",
        "\n",
        "print(jump(nums3))"
      ],
      "metadata": {
        "colab": {
          "base_uri": "https://localhost:8080/"
        },
        "id": "Y7hmjzvJwZ-g",
        "outputId": "73809fc5-f9a3-48cd-9304-f4e49b0979ee"
      },
      "execution_count": 48,
      "outputs": [
        {
          "output_type": "stream",
          "name": "stdout",
          "text": [
            "current position: 0\n",
            "next jump: 1\n",
            "\n",
            "\n",
            "index: 1\n",
            "value: 2\n",
            "current position: 1\n",
            "next jump: 1\n",
            "\n",
            "\n",
            "index: 2\n",
            "value: 2\n",
            "current position: 2\n",
            "next jump: 1\n",
            "\n",
            "\n",
            "index: 3\n",
            "value: 2\n",
            "current position: 3\n",
            "next jump: 1\n",
            "\n",
            "\n",
            "4\n"
          ]
        }
      ]
    },
    {
      "cell_type": "code",
      "source": [
        "nums3 = [4,1,1,1,4]\n",
        "\n",
        "print(jump(nums3))"
      ],
      "metadata": {
        "colab": {
          "base_uri": "https://localhost:8080/"
        },
        "id": "KQDL5yOLOyDm",
        "outputId": "8a10c040-2b30-4b48-daf2-597dbd1c43a0"
      },
      "execution_count": 49,
      "outputs": [
        {
          "output_type": "stream",
          "name": "stdout",
          "text": [
            "current position: 0\n",
            "next jump: 4\n",
            "\n",
            "\n",
            "1\n"
          ]
        }
      ]
    },
    {
      "cell_type": "code",
      "source": [
        "nums4 = [1,1,2,1,4]\n",
        "\n",
        "print(jump(nums4))"
      ],
      "metadata": {
        "colab": {
          "base_uri": "https://localhost:8080/"
        },
        "id": "ZIVd05O-OyFp",
        "outputId": "0a62df48-93d8-4eb5-a336-a1a5033bca88"
      },
      "execution_count": 50,
      "outputs": [
        {
          "output_type": "stream",
          "name": "stdout",
          "text": [
            "current position: 0\n",
            "next jump: 1\n",
            "\n",
            "\n",
            "index: 1\n",
            "value: 2\n",
            "current position: 1\n",
            "next jump: 1\n",
            "\n",
            "\n",
            "index: 2\n",
            "value: 3\n",
            "current position: 2\n",
            "next jump: 2\n",
            "\n",
            "\n",
            "3\n"
          ]
        }
      ]
    },
    {
      "cell_type": "code",
      "source": [
        "nums5 = [5,9,3,2,1,0,2,3,3,1,0,0]\n",
        "\n",
        "print(jump(nums5))"
      ],
      "metadata": {
        "colab": {
          "base_uri": "https://localhost:8080/"
        },
        "id": "zCMhIlEWOyI6",
        "outputId": "c9d4be02-0141-422b-da83-9051cddb8125"
      },
      "execution_count": 51,
      "outputs": [
        {
          "output_type": "stream",
          "name": "stdout",
          "text": [
            "current position: 0\n",
            "next jump: 5\n",
            "\n",
            "\n",
            "index: 1\n",
            "value: 10\n",
            "index: 2\n",
            "value: 5\n",
            "index: 3\n",
            "value: 5\n",
            "index: 4\n",
            "value: 5\n",
            "index: 5\n",
            "value: 5\n",
            "current position: 1\n",
            "next jump: 9\n",
            "\n",
            "\n",
            "index: 2\n",
            "value: 4\n",
            "index: 3\n",
            "value: 4\n",
            "index: 4\n",
            "value: 4\n",
            "index: 5\n",
            "value: 4\n",
            "index: 6\n",
            "value: 7\n",
            "index: 7\n",
            "value: 9\n",
            "index: 8\n",
            "value: 10\n",
            "index: 9\n",
            "value: 9\n",
            "index: 10\n",
            "value: 9\n",
            "current position: 8\n",
            "next jump: 3\n",
            "\n",
            "\n",
            "3\n"
          ]
        }
      ]
    },
    {
      "cell_type": "code",
      "source": [
        "nums6 = [0]\n",
        "\n",
        "print(jump(nums6))"
      ],
      "metadata": {
        "colab": {
          "base_uri": "https://localhost:8080/"
        },
        "id": "JsLsl_zaP7aL",
        "outputId": "9d4277d6-bb17-4adb-fec1-97f9c57d0b54"
      },
      "execution_count": 52,
      "outputs": [
        {
          "output_type": "stream",
          "name": "stdout",
          "text": [
            "0\n"
          ]
        }
      ]
    },
    {
      "cell_type": "code",
      "source": [
        "nums7 = [7, 0, 9, 6, 9, 6, 1, 7, 9, 0, 1, 2, 9, 0, 3]\n",
        "\n",
        "print(jump(nums7))"
      ],
      "metadata": {
        "colab": {
          "base_uri": "https://localhost:8080/"
        },
        "id": "EPmVfI3fP7c-",
        "outputId": "4986f516-230f-46ec-cd61-d7070b25aaf0"
      },
      "execution_count": 53,
      "outputs": [
        {
          "output_type": "stream",
          "name": "stdout",
          "text": [
            "current position: 0\n",
            "next jump: 7\n",
            "\n",
            "\n",
            "index: 1\n",
            "value: 1\n",
            "index: 2\n",
            "value: 11\n",
            "index: 3\n",
            "value: 9\n",
            "index: 4\n",
            "value: 13\n",
            "index: 5\n",
            "value: 11\n",
            "index: 6\n",
            "value: 7\n",
            "index: 7\n",
            "value: 14\n",
            "current position: 7\n",
            "next jump: 7\n",
            "\n",
            "\n",
            "2\n"
          ]
        }
      ]
    }
  ]
}