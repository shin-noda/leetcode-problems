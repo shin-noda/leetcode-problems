{
  "nbformat": 4,
  "nbformat_minor": 0,
  "metadata": {
    "colab": {
      "provenance": [],
      "authorship_tag": "ABX9TyN9AdhSSmQDC30dp4SuQ1xt",
      "include_colab_link": true
    },
    "kernelspec": {
      "name": "python3",
      "display_name": "Python 3"
    },
    "language_info": {
      "name": "python"
    }
  },
  "cells": [
    {
      "cell_type": "markdown",
      "metadata": {
        "id": "view-in-github",
        "colab_type": "text"
      },
      "source": [
        "<a href=\"https://colab.research.google.com/github/shin-noda/leetcode-problems/blob/main/Problem55.ipynb\" target=\"_parent\"><img src=\"https://colab.research.google.com/assets/colab-badge.svg\" alt=\"Open In Colab\"/></a>"
      ]
    },
    {
      "cell_type": "code",
      "execution_count": 38,
      "metadata": {
        "id": "epKr7cr-fGNV"
      },
      "outputs": [],
      "source": [
        "def canJump(nums):\n",
        "    # think jumps as fuel\n",
        "    fuel = 0\n",
        "    position = 0\n",
        "    n = len(nums)\n",
        "\n",
        "    for jump in nums:\n",
        "        if fuel <= jump:\n",
        "            # gain jump\n",
        "            fuel = jump\n",
        "\n",
        "        if (position + fuel) >= n - 1:\n",
        "            return True\n",
        "\n",
        "        # cannot reach\n",
        "        if fuel == 0:\n",
        "            return False\n",
        "\n",
        "        position += 1\n",
        "        fuel = fuel - 1\n",
        "\n",
        "    return False"
      ]
    },
    {
      "cell_type": "code",
      "source": [
        "nums1 = [2,3,1,1,4]\n",
        "\n",
        "print(canJump(nums1))"
      ],
      "metadata": {
        "colab": {
          "base_uri": "https://localhost:8080/"
        },
        "id": "mF7DNQGwg3ta",
        "outputId": "64ae3241-57c7-4f9d-d079-7aa0c5567101"
      },
      "execution_count": 40,
      "outputs": [
        {
          "output_type": "stream",
          "name": "stdout",
          "text": [
            "True\n"
          ]
        }
      ]
    },
    {
      "cell_type": "code",
      "source": [
        "nums2 = [3,2,1,0,4]\n",
        "\n",
        "print(canJump(nums2))"
      ],
      "metadata": {
        "colab": {
          "base_uri": "https://localhost:8080/"
        },
        "id": "VoBgSqt9g3v5",
        "outputId": "25a5b9b0-d553-4576-98fd-a12aed7eb012"
      },
      "execution_count": 41,
      "outputs": [
        {
          "output_type": "stream",
          "name": "stdout",
          "text": [
            "False\n"
          ]
        }
      ]
    },
    {
      "cell_type": "code",
      "source": [
        "nums3 = [0, 0, 0, 0, 0]\n",
        "\n",
        "print(canJump(nums3))"
      ],
      "metadata": {
        "colab": {
          "base_uri": "https://localhost:8080/"
        },
        "id": "SkDYv-absExu",
        "outputId": "9a4557a1-7e75-45c5-a30b-0a682b6b5c62"
      },
      "execution_count": 42,
      "outputs": [
        {
          "output_type": "stream",
          "name": "stdout",
          "text": [
            "False\n"
          ]
        }
      ]
    },
    {
      "cell_type": "code",
      "source": [
        "nums4 = [1, 1, 1, 1, 1]\n",
        "\n",
        "print(canJump(nums4))"
      ],
      "metadata": {
        "colab": {
          "base_uri": "https://localhost:8080/"
        },
        "id": "QILAWD_KsEz1",
        "outputId": "be2ff2ec-33ea-431f-8ff3-fd47b3b540d8"
      },
      "execution_count": 43,
      "outputs": [
        {
          "output_type": "stream",
          "name": "stdout",
          "text": [
            "True\n"
          ]
        }
      ]
    },
    {
      "cell_type": "code",
      "source": [
        "nums5 = [4, 0, 0, 0, 0]\n",
        "\n",
        "print(canJump(nums5))"
      ],
      "metadata": {
        "colab": {
          "base_uri": "https://localhost:8080/"
        },
        "id": "eYVmHr0DsE1r",
        "outputId": "ad935037-55ce-4473-cc2b-ceb1b5afbf82"
      },
      "execution_count": 44,
      "outputs": [
        {
          "output_type": "stream",
          "name": "stdout",
          "text": [
            "True\n"
          ]
        }
      ]
    },
    {
      "cell_type": "code",
      "source": [
        "nums6 = [0, 0, 2, 0, 0]\n",
        "\n",
        "print(canJump(nums6))"
      ],
      "metadata": {
        "colab": {
          "base_uri": "https://localhost:8080/"
        },
        "id": "oP4Vo1zxsE3Y",
        "outputId": "790ba125-1456-4df1-ff4b-bd4acfec10db"
      },
      "execution_count": 45,
      "outputs": [
        {
          "output_type": "stream",
          "name": "stdout",
          "text": [
            "False\n"
          ]
        }
      ]
    },
    {
      "cell_type": "code",
      "source": [
        "nums7 = [1, 0, 2, 0, 0]\n",
        "\n",
        "print(canJump(nums7))"
      ],
      "metadata": {
        "colab": {
          "base_uri": "https://localhost:8080/"
        },
        "id": "6e_97wyrsE40",
        "outputId": "ea0417f2-5b1c-4091-c1bd-a2478c45974f"
      },
      "execution_count": 46,
      "outputs": [
        {
          "output_type": "stream",
          "name": "stdout",
          "text": [
            "False\n"
          ]
        }
      ]
    },
    {
      "cell_type": "code",
      "source": [
        "nums7 = [2, 0, 2, 0, 0]\n",
        "\n",
        "print(canJump(nums7))"
      ],
      "metadata": {
        "colab": {
          "base_uri": "https://localhost:8080/"
        },
        "id": "jqKFG6PisE6W",
        "outputId": "310dded2-2259-46c5-e2fc-87d4ce63061c"
      },
      "execution_count": 47,
      "outputs": [
        {
          "output_type": "stream",
          "name": "stdout",
          "text": [
            "True\n"
          ]
        }
      ]
    },
    {
      "cell_type": "code",
      "source": [
        "nums8 = [5,9,3,2,1,0,2,3,3,1,0,0]\n",
        "\n",
        "print(canJump(nums8))"
      ],
      "metadata": {
        "colab": {
          "base_uri": "https://localhost:8080/"
        },
        "id": "cIqD4SMTsE70",
        "outputId": "00ae0094-e222-4264-9e8b-34eaf3c5df30"
      },
      "execution_count": 48,
      "outputs": [
        {
          "output_type": "stream",
          "name": "stdout",
          "text": [
            "True\n"
          ]
        }
      ]
    }
  ]
}