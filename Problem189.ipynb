{
  "nbformat": 4,
  "nbformat_minor": 0,
  "metadata": {
    "colab": {
      "provenance": [],
      "authorship_tag": "ABX9TyMJlwUjM+rgZY6iBouMQxsC",
      "include_colab_link": true
    },
    "kernelspec": {
      "name": "python3",
      "display_name": "Python 3"
    },
    "language_info": {
      "name": "python"
    }
  },
  "cells": [
    {
      "cell_type": "markdown",
      "metadata": {
        "id": "view-in-github",
        "colab_type": "text"
      },
      "source": [
        "<a href=\"https://colab.research.google.com/github/shin-noda/leetcode-problems/blob/main/Problem189.ipynb\" target=\"_parent\"><img src=\"https://colab.research.google.com/assets/colab-badge.svg\" alt=\"Open In Colab\"/></a>"
      ]
    },
    {
      "cell_type": "code",
      "execution_count": 5,
      "metadata": {
        "id": "MMZ4P6Pzu1-Y"
      },
      "outputs": [],
      "source": [
        "def rotate(nums, k):\n",
        "    \"\"\"\n",
        "    Do not return anything, modify nums in-place instead.\n",
        "    \"\"\"\n",
        "\n",
        "    for _ in range(k):\n",
        "        nums.insert(0, nums.pop())\n",
        "\n",
        "    print(nums)"
      ]
    },
    {
      "cell_type": "code",
      "source": [
        "nums1 = [1,2,3,4,5,6,7]\n",
        "k1 = 3\n",
        "\n",
        "rotate(nums1, k1)"
      ],
      "metadata": {
        "colab": {
          "base_uri": "https://localhost:8080/"
        },
        "id": "TG6KJyxdu7E0",
        "outputId": "3a2e00a9-ff61-456f-ea12-fbcdcef53a75"
      },
      "execution_count": 6,
      "outputs": [
        {
          "output_type": "stream",
          "name": "stdout",
          "text": [
            "[5, 6, 7, 1, 2, 3, 4]\n"
          ]
        }
      ]
    },
    {
      "cell_type": "code",
      "source": [
        "nums2 = [-1,-100,3,99]\n",
        "k2 = 2\n",
        "\n",
        "rotate(nums2, k2)"
      ],
      "metadata": {
        "colab": {
          "base_uri": "https://localhost:8080/"
        },
        "id": "o7C5qgHxu7G3",
        "outputId": "7ce8529a-0416-4ded-ab48-42fd262290f5"
      },
      "execution_count": 7,
      "outputs": [
        {
          "output_type": "stream",
          "name": "stdout",
          "text": [
            "[3, 99, -1, -100]\n"
          ]
        }
      ]
    },
    {
      "cell_type": "code",
      "source": [
        "nums3 = [1, 2]\n",
        "k3 = 1\n",
        "\n",
        "rotate(nums3, k3)"
      ],
      "metadata": {
        "colab": {
          "base_uri": "https://localhost:8080/"
        },
        "id": "cSATI8WOy7Yu",
        "outputId": "1d0cdbda-7c22-4b4f-beaa-8a1d57bf43a6"
      },
      "execution_count": 8,
      "outputs": [
        {
          "output_type": "stream",
          "name": "stdout",
          "text": [
            "[2, 1]\n"
          ]
        }
      ]
    },
    {
      "cell_type": "code",
      "source": [
        "nums4 = [0, 1, 2, 3, 4]\n",
        "k4 = 2\n",
        "\n",
        "rotate(nums4, k4)"
      ],
      "metadata": {
        "colab": {
          "base_uri": "https://localhost:8080/"
        },
        "id": "MphlDBAcy7d4",
        "outputId": "258b0232-bea2-43ee-d3f1-9cab8008753c"
      },
      "execution_count": 9,
      "outputs": [
        {
          "output_type": "stream",
          "name": "stdout",
          "text": [
            "[3, 4, 0, 1, 2]\n"
          ]
        }
      ]
    },
    {
      "cell_type": "code",
      "source": [
        "nums5 = [1,2,3,4,5,6]\n",
        "k5 = 3\n",
        "\n",
        "rotate(nums5, k5)"
      ],
      "metadata": {
        "colab": {
          "base_uri": "https://localhost:8080/"
        },
        "id": "rhDSE11M6-fV",
        "outputId": "0eb8e617-2a8b-4164-9508-847c772057fc"
      },
      "execution_count": 10,
      "outputs": [
        {
          "output_type": "stream",
          "name": "stdout",
          "text": [
            "[4, 5, 6, 1, 2, 3]\n"
          ]
        }
      ]
    },
    {
      "cell_type": "code",
      "source": [],
      "metadata": {
        "id": "WrA3mXig6-hZ"
      },
      "execution_count": null,
      "outputs": []
    },
    {
      "cell_type": "code",
      "source": [],
      "metadata": {
        "id": "kx6RBP5y6-jt"
      },
      "execution_count": null,
      "outputs": []
    },
    {
      "cell_type": "code",
      "source": [],
      "metadata": {
        "id": "hE-XlIva6-ls"
      },
      "execution_count": null,
      "outputs": []
    }
  ]
}