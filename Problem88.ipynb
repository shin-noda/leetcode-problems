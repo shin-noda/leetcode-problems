{
  "nbformat": 4,
  "nbformat_minor": 0,
  "metadata": {
    "colab": {
      "provenance": [],
      "authorship_tag": "ABX9TyMyQCT2AoIxcxKDQc9I4f2l",
      "include_colab_link": true
    },
    "kernelspec": {
      "name": "python3",
      "display_name": "Python 3"
    },
    "language_info": {
      "name": "python"
    }
  },
  "cells": [
    {
      "cell_type": "markdown",
      "metadata": {
        "id": "view-in-github",
        "colab_type": "text"
      },
      "source": [
        "<a href=\"https://colab.research.google.com/github/shin-noda/leetcode-problems/blob/main/Problem88.ipynb\" target=\"_parent\"><img src=\"https://colab.research.google.com/assets/colab-badge.svg\" alt=\"Open In Colab\"/></a>"
      ]
    },
    {
      "cell_type": "code",
      "execution_count": 51,
      "metadata": {
        "id": "xx2bbLHyylcx"
      },
      "outputs": [],
      "source": [
        "def merge(nums1, m, nums2, n):\n",
        "  \"\"\"\n",
        "  Do not return anything, modify nums1 in-place instead.\n",
        "  \"\"\"\n",
        "\n",
        "  # Initialize a variable\n",
        "  index1 = 0\n",
        "  index2 = 0\n",
        "\n",
        "  m_copy = m\n",
        "\n",
        "  while m_copy > 0 and index2 < n:\n",
        "    if nums1[index1] <= nums2[index2]:\n",
        "      # increment the index of nums1 by 1\n",
        "      index1 += 1\n",
        "      m_copy -= 1\n",
        "\n",
        "    else:\n",
        "      # copy the sublist\n",
        "      temp = nums1[index1:(index1 + m_copy)]\n",
        "\n",
        "      print(\"Temp: \" + str(temp))\n",
        "\n",
        "      # overwrite one element of nums1 with nums2[index2]\n",
        "      nums1[index1] = nums2[index2]\n",
        "\n",
        "      index1 += 1\n",
        "      index2 += 1\n",
        "\n",
        "      i = 0\n",
        "      for x in temp:\n",
        "        nums1[index1 + i] = x\n",
        "        i += 1\n",
        "\n",
        "    print(\"inside: \" + str(nums1))\n",
        "\n",
        "  if index1 < len(nums1) and nums1[index1] == 0:\n",
        "    for x in range(index1, len(nums1)):\n",
        "      nums1[x] = nums2[index2]\n",
        "      index2 += 1\n",
        "\n",
        "  print(nums1)"
      ]
    },
    {
      "cell_type": "code",
      "source": [
        "nums1 = [1,2,3,0,0,0]\n",
        "nums2 = [2, 5, 6]\n",
        "\n",
        "m = 3\n",
        "n = 3"
      ],
      "metadata": {
        "id": "vR1GuOkmzMig"
      },
      "execution_count": 52,
      "outputs": []
    },
    {
      "cell_type": "code",
      "source": [
        "merge(nums1, m, nums2, n)"
      ],
      "metadata": {
        "colab": {
          "base_uri": "https://localhost:8080/"
        },
        "id": "lFrT3bYpzMtm",
        "outputId": "b46b1f5e-32f3-45bb-92fc-b9bc69f177bd"
      },
      "execution_count": 53,
      "outputs": [
        {
          "output_type": "stream",
          "name": "stdout",
          "text": [
            "inside: [1, 2, 3, 0, 0, 0]\n",
            "inside: [1, 2, 3, 0, 0, 0]\n",
            "Temp: [3]\n",
            "inside: [1, 2, 2, 3, 0, 0]\n",
            "inside: [1, 2, 2, 3, 0, 0]\n",
            "[1, 2, 2, 3, 5, 6]\n"
          ]
        }
      ]
    },
    {
      "cell_type": "code",
      "source": [
        "nums3 = [7, 7, 7, 0, 0, 0]\n",
        "nums4 = [2, 5, 6]\n",
        "\n",
        "o = 3\n",
        "p = 3"
      ],
      "metadata": {
        "id": "POya6oJhHe1F"
      },
      "execution_count": 54,
      "outputs": []
    },
    {
      "cell_type": "code",
      "source": [
        "merge(nums3, o, nums4, p)"
      ],
      "metadata": {
        "colab": {
          "base_uri": "https://localhost:8080/"
        },
        "id": "winGHSdGHe3a",
        "outputId": "e0b084f5-6aa5-469e-c5d6-a3d2095323b7"
      },
      "execution_count": 55,
      "outputs": [
        {
          "output_type": "stream",
          "name": "stdout",
          "text": [
            "Temp: [7, 7, 7]\n",
            "inside: [2, 7, 7, 7, 0, 0]\n",
            "Temp: [7, 7, 7]\n",
            "inside: [2, 5, 7, 7, 7, 0]\n",
            "Temp: [7, 7, 7]\n",
            "inside: [2, 5, 6, 7, 7, 7]\n",
            "[2, 5, 6, 7, 7, 7]\n"
          ]
        }
      ]
    },
    {
      "cell_type": "code",
      "source": [
        "nums5 = [-1,0,0,3,3,3,0,0,0]\n",
        "nums6 = [1,2,2]\n",
        "\n",
        "q = 6\n",
        "r = 3"
      ],
      "metadata": {
        "id": "jmhwDQQANnQF"
      },
      "execution_count": 56,
      "outputs": []
    },
    {
      "cell_type": "code",
      "source": [
        "merge(nums5, q, nums6, r)"
      ],
      "metadata": {
        "colab": {
          "base_uri": "https://localhost:8080/"
        },
        "id": "wDSDThFaNnSp",
        "outputId": "fc8c6b94-c4e6-439f-8466-d08c15e080fd"
      },
      "execution_count": 57,
      "outputs": [
        {
          "output_type": "stream",
          "name": "stdout",
          "text": [
            "inside: [-1, 0, 0, 3, 3, 3, 0, 0, 0]\n",
            "inside: [-1, 0, 0, 3, 3, 3, 0, 0, 0]\n",
            "inside: [-1, 0, 0, 3, 3, 3, 0, 0, 0]\n",
            "Temp: [3, 3, 3]\n",
            "inside: [-1, 0, 0, 1, 3, 3, 3, 0, 0]\n",
            "Temp: [3, 3, 3]\n",
            "inside: [-1, 0, 0, 1, 2, 3, 3, 3, 0]\n",
            "Temp: [3, 3, 3]\n",
            "inside: [-1, 0, 0, 1, 2, 2, 3, 3, 3]\n",
            "[-1, 0, 0, 1, 2, 2, 3, 3, 3]\n"
          ]
        }
      ]
    }
  ]
}