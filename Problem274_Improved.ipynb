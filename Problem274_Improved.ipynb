{
  "nbformat": 4,
  "nbformat_minor": 0,
  "metadata": {
    "colab": {
      "provenance": [],
      "authorship_tag": "ABX9TyOdhu4imj0vCRAaQ80621mb",
      "include_colab_link": true
    },
    "kernelspec": {
      "name": "python3",
      "display_name": "Python 3"
    },
    "language_info": {
      "name": "python"
    }
  },
  "cells": [
    {
      "cell_type": "markdown",
      "metadata": {
        "id": "view-in-github",
        "colab_type": "text"
      },
      "source": [
        "<a href=\"https://colab.research.google.com/github/shin-noda/leetcode-problems/blob/main/Problem274_Improved.ipynb\" target=\"_parent\"><img src=\"https://colab.research.google.com/assets/colab-badge.svg\" alt=\"Open In Colab\"/></a>"
      ]
    },
    {
      "cell_type": "code",
      "source": [
        "from typing import List"
      ],
      "metadata": {
        "id": "q3vnHaCNqJac"
      },
      "execution_count": 1,
      "outputs": []
    },
    {
      "cell_type": "code",
      "execution_count": 3,
      "metadata": {
        "id": "M2oL8x8lqHcL"
      },
      "outputs": [],
      "source": [
        "class Solution:\n",
        "    def hIndex(self, citations: List[int]) -> int:\n",
        "        # Step 1: Sort in descending order\n",
        "        citations.sort(reverse=True)\n",
        "\n",
        "        # Step 2: Walk through each paper\n",
        "        for i, c in enumerate(citations):\n",
        "            # Step 3: Check if citations fall below required count\n",
        "            if c < i + 1:\n",
        "                return i\n",
        "\n",
        "        # Step 4: All papers satisfy the condition\n",
        "        return len(citations)"
      ]
    }
  ]
}